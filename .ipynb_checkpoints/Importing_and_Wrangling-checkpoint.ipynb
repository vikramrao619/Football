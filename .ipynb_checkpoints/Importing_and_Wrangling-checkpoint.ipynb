{
 "metadata": {
  "name": "",
  "signature": "sha256:49f2e1692098d699b0cb1049daf1d3f872d687d3024686c77564982267afe16f"
 },
 "nbformat": 3,
 "nbformat_minor": 0,
 "worksheets": [
  {
   "cells": [
    {
     "cell_type": "heading",
     "level": 1,
     "metadata": {},
     "source": [
      "Introduction"
     ]
    },
    {
     "cell_type": "markdown",
     "metadata": {},
     "source": [
      "This is the first of two IPython notebooks that are part of an ongoing examination of historical NFL data. In this notebook, I process data obtained in raw form from www.profootballreference.com. Each team's data comes from the site's \"Team Encyclopedia\" pages (for example, the San Diego Chargers data is from here - http://www.pro-football-reference.com/teams/sdg/). I exported all 32 of these files as .csv files and saved them locally, then processed them in Python. To start, I process each team's .csv individually. First, I clean each file (mostly renaming variables and eliminating an extra row at the top). I then calculate a few statistics team-specific statistics such as cumulative win-loss statistics and a new variable representing progress in the playoffs. After merging each team file together, I calculate a few novel statistics that I will later use to study how parity has changed over time. I output two files: one containing all the data and one containining only the parity variables for use in R. "
     ]
    },
    {
     "cell_type": "heading",
     "level": 1,
     "metadata": {},
     "source": [
      "Preliminaries"
     ]
    },
    {
     "cell_type": "markdown",
     "metadata": {},
     "source": [
      "To start, I import relevant libraries."
     ]
    },
    {
     "cell_type": "code",
     "collapsed": false,
     "input": [
      "import numpy as np\n",
      "import pandas as pd\n",
      "from pandas import Series, DataFrame\n"
     ],
     "language": "python",
     "metadata": {},
     "outputs": [
      {
       "output_type": "stream",
       "stream": "stderr",
       "text": [
        "C:\\Users\\vrao\\AppData\\Local\\Enthought\\Canopy\\User\\lib\\site-packages\\pandas\\io\\excel.py:626: UserWarning: Installed openpyxl is not supported at this time. Use >=1.6.1 and <2.0.0.\n",
        "  .format(openpyxl_compat.start_ver, openpyxl_compat.stop_ver))\n"
       ]
      }
     ],
     "prompt_number": 1
    },
    {
     "cell_type": "markdown",
     "metadata": {},
     "source": [
      "Next, I create a dict of dataframes which will be used to store individual team dataframes. Eventually these are merged together to create the final dataset. I also create a list of team names that is necessary for processing the input data and various other wrangling purposes. "
     ]
    },
    {
     "cell_type": "code",
     "collapsed": false,
     "input": [
      "# List of team names in the input files and dict of dataframes to store each\n",
      "# team's data\n",
      "TEAMLIST = ['atl', 'buf', 'car', 'chi', 'cin', 'cle', 'clt', 'crd', 'dal', \n",
      "            'den', 'det', 'gnb', 'htx', 'jax', 'kan', 'mia', 'min', 'nor', \n",
      "            'nwe', 'nyg', 'nyj', 'oti', 'phi', 'pit', 'rai', 'ram', 'rav', \n",
      "            'sdg', 'sea', 'sfo', 'tam', 'was']\n",
      "ALLTEAMS = {}\n"
     ],
     "language": "python",
     "metadata": {},
     "outputs": [],
     "prompt_number": 2
    },
    {
     "cell_type": "heading",
     "level": 1,
     "metadata": {},
     "source": [
      "Import Each Team's Data"
     ]
    },
    {
     "cell_type": "markdown",
     "metadata": {},
     "source": [
      "In this section, I import each team's individual dataset, clean the data, and create some new variables. "
     ]
    },
    {
     "cell_type": "code",
     "collapsed": false,
     "input": [
      "# Read in each file, clean variable names, save\t\t\t \n",
      "for team in TEAMLIST:\n",
      "    \n",
      "    # Read in .csvs and clean column names\n",
      "    input = pd.read_csv('Input Data\\\\teams_%s__team_index.csv' % team, \n",
      "    skiprows=[0])\n",
      "    columns = list(input.columns.values)\n",
      "    intermediate = DataFrame(input, columns = columns[0:19])\n",
      "    intermediate['Off Rank'][0] = \"%s_offensive_rank_points\" % team\n",
      "    intermediate['Off Rank.1'][0] = \"%s_offensive_rank_yards\" % team\n",
      "    intermediate['Def Rank'][0] = \"%s_defensive_rank_points\" % team\n",
      "    intermediate['Def Rank.1'][0] = \"%s_defensive_rank_yards\" % team\n",
      "    intermediate['Unnamed: 1'][0] = \"%s_league_membership\" % team\n",
      "    intermediate['Unnamed: 2'][0] = \"%s_team_name\" % team\n",
      "    intermediate['Points'][0] = \"%s_points_scored\" % team\n",
      "    intermediate['Points.1'][0] = \"%s_points_allowed\" % team\n",
      "    intermediate['Points.2'][0] = \"%s_point_differential\" % team\n",
      "    intermediate['Top Players'][0] = \"%s_top_passer\" % team\n",
      "    intermediate['Top Players.1'][0] = \"%s_top_rusher\" % team\n",
      "    intermediate['Top Players.2'][0] = \"%s_top_receiver\" % team\n",
      "    new_headers = intermediate.ix[0]\n",
      "    intermediate.columns = new_headers\n",
      "    final = intermediate.ix[1:]\n",
      "    final = final.rename(columns = {'W': '%s_wins' % team, \n",
      "                                    'L': '%s_losses' % team, \n",
      "                                    'T': '%s_ties' % team, \n",
      "                                    'Coaches': '%s_coaches' % team, \n",
      "                                    'AV': '%s_AV' % team, \n",
      "                                    'Playoffs': '%s_playoffs' % team}, \n",
      "                                    inline = True)\n",
      "\n",
      "    # Eliminate the *s in the team column - they indicate making the playoffs \n",
      "    # but this is in the playoff variable already\n",
      "    for idx in range(len(final) - 1):\n",
      "        teamname = str(final['%s_team_name' % team][idx + 1])\n",
      "        namelength = len(teamname)\n",
      "        if teamname[namelength - 1] == '*':\n",
      "            final['%s_team_name' % team][idx + 1] = teamname[:len(teamname) - 1]\n",
      "    \n",
      "    # Create a win percentage variable, counting ties as half a win\n",
      "    final[['%s_wins' % team, '%s_ties' % team, '%s_losses' % team]] = \\\n",
      "    final[['%s_wins' % team, '%s_ties' % team, \n",
      "    '%s_losses' % team]].astype(float)\n",
      "    final['%s_total_games' % team] = \\\n",
      "    final['%s_wins' % team] + final['%s_ties' % team] + \\\n",
      "    final['%s_losses' % team]\n",
      "    final['%s_win_percentage' % team] = (final['%s_wins' % team] + \\\n",
      "    .5 * final['%s_ties' % team]) / final['%s_total_games' % team]\n",
      "\n",
      "    # Create a cumulative wins, losses, ties, and win pct variables, counting \n",
      "    # ties as half a win\n",
      "    outcomes = ['wins', 'ties', 'losses', 'total_games']\n",
      "    curseason = len(final)\n",
      "    for outcome in outcomes:\n",
      "        final['%s_cumulative_%s' % (team, outcome)] = 0\n",
      "        final['%s_cumulative_%s' % (team, outcome)][curseason] = \\\n",
      "        final['%s_%s' % (team, outcome)][curseason]\n",
      "    final['%s_cumulative_win_percentage' % team] = 0.\n",
      "    final['%s_cumulative_win_percentage' % team][curseason] = \\\n",
      "    final['%s_win_percentage' % team][curseason]\n",
      "\n",
      "    # Populate the cumulative variables appropriately \n",
      "    curseason = curseason - 1\n",
      "    while curseason > 0:\n",
      "        for outcome in outcomes:\n",
      "            final['%s_cumulative_%s' % (team, outcome)][curseason] = \\\n",
      "            final['%s_cumulative_%s' % (team, outcome)][curseason + 1] + \\\n",
      "            final['%s_%s' % (team, outcome)][curseason]\n",
      "        final['%s_cumulative_win_percentage' % team][curseason] = \\\n",
      "        (final['%s_cumulative_wins' % team][curseason] + \n",
      "        .5 * final['%s_cumulative_ties' % team][curseason]) / \\\n",
      "        final['%s_cumulative_total_games' % team][curseason]\n",
      "        curseason = curseason - 1\n",
      "    \n",
      "    # Replace blanks in playoff variable with indication of missing the playoffs\n",
      "    for i in range(len(final['%s_playoffs' % team])):\n",
      "        final['%s_playoffs' % team][i + 1] = \\\n",
      "        str(final['%s_playoffs' % team][i + 1])\n",
      "        if final['%s_playoffs' % team][i + 1] == 'nan':\n",
      "            final['%s_playoffs' % team][i + 1] = 'Missed Playoffs'\n",
      "    \n",
      "    # Create playoff rating variable: range is .2 (lose WC) to 1 (win SB)\n",
      "    final['%s_playoff_rating' % team] = 99.0\n",
      "    pointsdict = {'Missed Playoffs': 0, 'Lost WC': 0.2, 'Lost Div': 0.4, \n",
      "                  'Lost Conf': .6, 'Lost SB': .8, 'Won SB': 1., \n",
      "                  'Lost Champ': .8, 'Won Champ': 1., '': 0}\n",
      "    for i in range(1, len(final) + 1):\n",
      "        final['%s_playoff_rating' % team][i] = \\\n",
      "        pointsdict[final['%s_playoffs' % team][i]]\n",
      "    \n",
      "    # Create made playoffs variable: 1 if team made playoffs, 0 if not\n",
      "    final['%s_made_playoffs' % team] = 99\n",
      "    for i in range(1, len(final) + 1):\n",
      "        if final['%s_playoff_rating' % team][i] > 0:\n",
      "            final['%s_made_playoffs' % team][i] = 1\n",
      "        else:\n",
      "            final['%s_made_playoffs' % team][i] = 0\n",
      "    \n",
      "    # Insert the current team's frame into the dict\n",
      "    ALLTEAMS['%s' % team] = final\n"
     ],
     "language": "python",
     "metadata": {},
     "outputs": [],
     "prompt_number": 3
    },
    {
     "cell_type": "markdown",
     "metadata": {},
     "source": [
      "At this point, the ALLTEAMS dict has a DataFrame containing relevant statistics for every team. Next, I merge these together into a single DataFrame. The allteams_frame is initialized with the Atlanta Falcons' frame, then has every other team's frame subsequently merged into it. An outer merge is used because every season played by all 32 currently active teams should be included in the final dataset. The dataset ends up starting in 1920, when only the Chicago Bears (then the Decatur Staleys) and Arizona Cardinals (then the Chicago Cardinals) existed. These weren't the only teams in the league at the time, as a few teams that are now defunct were still operating. For the time being, I choose not to include defunct franchises in the data set.  "
     ]
    },
    {
     "cell_type": "code",
     "collapsed": false,
     "input": [
      "# Merge all frames together\n",
      "allteams_frame = ALLTEAMS['atl']\n",
      "for team in TEAMLIST[1:]:\n",
      "\tallteams_frame = pd.merge(allteams_frame, ALLTEAMS[team], how = 'outer')\n",
      "allteams_frame.index = allteams_frame['Year']\n",
      "allteams_frame = allteams_frame.drop('Year', axis = 1)\n",
      "allteams_frame.index.name = 'year'"
     ],
     "language": "python",
     "metadata": {},
     "outputs": [],
     "prompt_number": 4
    },
    {
     "cell_type": "heading",
     "level": 1,
     "metadata": {},
     "source": [
      "Create New Variables"
     ]
    },
    {
     "cell_type": "markdown",
     "metadata": {},
     "source": [
      "Next, I create a number of new variables from the data. These will be used by future functions. The first group of variables represent various eras of NFL history and keep track of the total number of teams in the league."
     ]
    },
    {
     "cell_type": "code",
     "collapsed": false,
     "input": [
      "# Create 'era' variables representing changes in era: Super Bowl, free agency, \n",
      "# salary cap\n",
      "allteams_frame['super_bowl_era'] = 1\n",
      "allteams_frame.ix[map(str, range(1920, 1966)), 'super_bowl_era'] = 0\n",
      "\n",
      "allteams_frame['salary_cap_era'] = 1\n",
      "allteams_frame.ix[map(str, range(1920, 1994)), 'salary_cap_era'] = 0\n",
      "\n",
      "allteams_frame['free_agency_era'] = 1\n",
      "allteams_frame.ix[map(str, range(1920, 1993)), 'free_agency_era'] = 0\n",
      "\n",
      "# Create number of teams variable representing number of teams in the league(s)\n",
      "allteams_frame['number_of_teams'] = 0 \n",
      "for year in map(str, range(1920, 2015)):\n",
      "    i = 0\n",
      "    for team in TEAMLIST:\n",
      "        if pd.isnull(allteams_frame.ix['%s' % year, '%s_team_name' % team]) == \\\n",
      "            False:\n",
      "\n",
      "            i = i + 1\n",
      "    allteams_frame.ix['%s' % year, 'number_of_teams'] = i"
     ],
     "language": "python",
     "metadata": {},
     "outputs": [],
     "prompt_number": 5
    },
    {
     "cell_type": "heading",
     "level": 2,
     "metadata": {},
     "source": [
      "Parity Variables"
     ]
    },
    {
     "cell_type": "markdown",
     "metadata": {},
     "source": [
      "The parity variables are used to calculate how parity in the NFL has changed over time. Most discussions of parity in the NFL or other major sports fail to define precisely what exactly \"parity\" means. I propose three definitions, none of which is perfect but all of which provide some insight. Here I will simply construct the variables before analyzing them in the NFL_Teams_Analysis notebook. "
     ]
    },
    {
     "cell_type": "heading",
     "level": 3,
     "metadata": {},
     "source": [
      "Win Percentage Parity"
     ]
    },
    {
     "cell_type": "markdown",
     "metadata": {},
     "source": [
      "Consider the current NFL schedule structure, which has 32 teams and a 16 game schedule. The outcome of a regular season can be written down formally as a list of each team's win percentage: $\\{winpct_{Atlanta}, winpct_{Buffalo}, winpct_{Carolina}, ...\\}$. We can think of this set as a point in $\\mathbb{R^{32}}$, in which each dimension corresponds to a team and each coordinate of the point represents a team's win percentage. The point takes on a restricted set of values with $\\mathbb{R^{32}}$. For starters, win percentages lie between 0 and 1. Thus, all valid sets of win percentages $x$ will satisfy $\\ x \\in [0, 1]^{32}$. Furthermore, the league average win percentage must always equal .500, as every game has a winner and a loser (and ties are counted as half a win for both teams). Thus, we are actually restricted to $ SeasonOutcomePlane = \\{ x \\in [0, 1]^{32} \\space \\colon \\space \\sum_{i = 1}^{32}x_i = 16 \\}$, where the indices $i$ refer to each of the 32 teams. \n",
      "\n",
      "For year $y$, define $SeasonOutcome_{y} = \\{x \\in SeasonOutcomePlane_{y}: x_{i} = winpercentage_{y, i}\\}$. The introduction of indexing by $y$ simply specifies the year of each statistic in question.  \n",
      "\n",
      "A natural way to measure parity in a given year is to calculate the \"distance between seasons\", or the Cartesian distance from $SeasonOutcome$ between the current season and the last season. For year $y$, define $WinPctParity$ as follows: \n",
      "\n",
      "$\\Large WinPctParity_{y} = (\\sum_{i = 1}^{32}(SeasonOutcome_{y, i} - SeasonOutcome_{y-1, i})^{2})^{\\frac{1}{2}}$\n",
      "\n",
      "This number represents how \"distant\" the current season was from the last season by win percentage. The number will be relatively large if a few teams that were very good in the prior season become very bad in the current season (or vice versa). Likewise, if most of the good teams remain good and most of the bad teams remain bad, the distance between seasons will be relatively small. \n",
      "\n",
      "Finally, the distances between seasons require normalization. This is because the number of teams in the league has grown over time, thus increasing the dimension of $SeasonOutcomePlane$. This means that comparisons of distance over time are not apples to apples comparisons. I deal with this issue by dividing the distance in a given year by the square root of the number of teams in the league. The square root of the number of teams in the league represents the maximal possible distance between two seasons. Suppose that in year 1, half the league goes 0-16 and the other half goes 16-0. Then in year 2, the teams that had gone 0-16 finish 16-0 and the teams that had gone 16-0 finish 0-16. The distance between these two points in $SeasonOutcomePlane$ is $\\sqrt{32}$, or the square root of the number of teams in the league. In the few seasons during which the league had an odd number of teams, I subtract one from the number of teams in the league (the story being that one of the teams wins half its games in both seasons while the others follow the flip-flop scenario described previously). Thus, the final number calculated is:\n",
      "\n",
      "$\\Large NormedWinPctParity_{y} = \\dfrac{WinPctParity_{y}}{NumberOfTeamsInLeague_{i}^{1/2}}$\n",
      "\n",
      "I have glossed over a few technical details here that I plan to revisit in due time. The $SeasonOutcomePlane$ hyperplane is actually a much more geometrically complex shape prescribed by the exact structure of the NFL schedule in a given year (for example, two teams that play each other can't both go 16-0 or 0-16). The dataset I've used does not contain the requisite information to specify this shape. My normalization figures are therefore imperfect, but they provide an adequate starting point. In addition, the $SeasonOutcomePlane$ is actually a dense but finite grid of points because every game results in a win, loss, or tie. Thus, a single team's record in a 16 game season is one of 49 values (17 possible records ranging from 0-16 to 16-0 without any ties and 16 additional possibilities accounting for ties). This leads to a discussion of whether the $L_{2}$ norm is appropriate but we will not worry about this issue for the time being. \n",
      "\n",
      "Finally, I've chosen to only define this variable for the Super Bowl Era (which begins in 1966, so parity is defined from 1967 onwards) because this was the point after which every NFL and AFL team had the same goal each season. "
     ]
    },
    {
     "cell_type": "code",
     "collapsed": false,
     "input": [
      "# Create normalization variable for win percentage parity variable\n",
      "# Normalize by square root of number of teams (L2 norm) during seasons with an \n",
      "# even number of teams and square root of number of teams minus one during\n",
      "# seasons with an odd number of teams\n",
      "allteams_frame['winpct_norm_factor'] = allteams_frame['number_of_teams'] ** 0.5\n",
      "allteams_frame.ix[map(str, range(1999, 2002)), 'winpct_norm_factor'] = 30 ** 0.5 \n",
      "allteams_frame.ix[['1967'], 'winpct_norm_factor'] = 24 ** 0.5"
     ],
     "language": "python",
     "metadata": {},
     "outputs": [],
     "prompt_number": 6
    },
    {
     "cell_type": "markdown",
     "metadata": {},
     "source": [
      "To calculate win percentage parity, I walk over each year from 1967 to the present and each of the teams in the league active in the given season. Within each team-season pair, I calculate the distance traveled from last season to this season (team_contribution), then add these values up across teams, normalize, and store. "
     ]
    },
    {
     "cell_type": "code",
     "collapsed": false,
     "input": [
      "# Calculate normalized yearly win percentage parity variable: this is equal to \n",
      "# the square root of the sum of squared changes in win percentages for each \n",
      "# team, divided by the normalizing factor. Note that the np.isnan code is a quick\n",
      "# workaround for dealing with a bug regarding Cleveland's 1996 season\n",
      "for year in map(str, range(1967, 2015)):\n",
      "    yearly_parity = 0\n",
      "    for team in TEAMLIST:\n",
      "        if not (pd.isnull(allteams_frame.ix['%s' % str(int(year) - 1), \n",
      "            '%s_win_percentage' % team] or pd.isnull(allteams_frame.ix['%s' \n",
      "            % year, '%s_win_percentage' % team]))):\n",
      "            team_contribution = (allteams_frame.ix['%s' % year, \n",
      "                                 '%s_win_percentage' % team] - \n",
      "                                 allteams_frame.ix['%s' % str(int(year) - 1), \n",
      "                                 '%s_win_percentage' % team]) ** 2\n",
      "            if not np.isnan(team_contribution):\n",
      "                yearly_parity = yearly_parity + team_contribution\n",
      "    allteams_frame.ix['%s' % year, 'normed_winpct_parity'] = \\\n",
      "    (yearly_parity ** 0.5) / allteams_frame.ix['%s' % year, \n",
      "    'winpct_norm_factor']\n"
     ],
     "language": "python",
     "metadata": {},
     "outputs": [],
     "prompt_number": 7
    },
    {
     "cell_type": "heading",
     "level": 3,
     "metadata": {},
     "source": [
      "Playoff Rating Parity"
     ]
    },
    {
     "cell_type": "markdown",
     "metadata": {},
     "source": [
      "While changes in win percentages represent an obvious way to define parity, they completely ignore playoff sucess. In light of this, I created a second parity variable focused exclusively on playoff success. The methodology is similar to before, with a few twists. To begin, I assign six possible outcomes to a team's season: missing the playoffs, losing a wild card game, losing a divisional round playoff game, losing a conference championship game, losing the Super Bowl, or winning the Super Bowl. These outcomes are assigned a \"playoff rating\": numerical values 0, 0.2, 0.4, 0.6, 0.8, and 1 respectively. I then calculate distance from season to season in the same manner as before, but this time I use Manhattan or $L_{1}$ norm: $\\lVert \\mathbf{x} \\rVert_1 = \\sum_{i = 1}^{32}\\lvert x_i \\rvert $. Manhattan norm is preferable to Cartesian distance in this situation because teams are restricted a relatively sparse grid. Thinking about diagonal distances through this grid is suspicious. Talking about paths that traverse diagonals is somewhat meaningless. Thus, playoff rating is defined as follows:\n",
      "\n",
      "$\\Large PlayoffRatingParity_{y} = \\sum_{i = 1}^{32}\\lvert SeasonOutcome_{y, i} - SeasonOutcome_{y-1, i} \\rvert$\n",
      "\n",
      "The normalization factor for playoff rating is based on a detailed analysis of the NFL playoff structure. Without going into full details, the playoff structure has changed quite a bit over the years and with greater frequency than the number of teams. As with win percentage, the normalization factor represents the maximal possible year of year change in the total playoff rating. After normalization, we have: \n",
      "\n",
      "$\\Large NormedPRParity_{y} = \\dfrac{\\sum_{i = 1}^{32}\\lvert SeasonOutcome_{y, i} - SeasonOutcome_{y-1, i} \\rvert}{NormalizationFactor_{i}}$"
     ]
    },
    {
     "cell_type": "code",
     "collapsed": false,
     "input": [
      "# Create normalization variable for playoff rating parity variable\n",
      "# Normalize by maximal change in playoff rating from last season to current\n",
      "# season (L1 norm)\n",
      "allteams_frame.ix[map(str, range(1991, 2015)), 'pr_norm_factor'] = 10.8\n",
      "allteams_frame.ix[['1990'], 'pr_norm_factor'] = 10.4\n",
      "allteams_frame.ix[map(str, range(1984, 1990)), 'pr_norm_factor'] = 10\n",
      "allteams_frame.ix[['1982', '1983'], 'pr_norm_factor'] = 11.2\n",
      "allteams_frame.ix[map(str, range(1979, 1982)), 'pr_norm_factor'] = 10\n",
      "allteams_frame.ix[['1978'], 'pr_norm_factor'] = 9.6\n",
      "allteams_frame.ix[map(str, range(1970, 1978)), 'pr_norm_factor'] = 9.2\n",
      "allteams_frame.ix[['1969'], 'pr_norm_factor'] = 8.8\n",
      "allteams_frame.ix[['1968'], 'pr_norm_factor'] = 8.0\n",
      "allteams_frame.ix[['1967'], 'pr_norm_factor'] = 6.8"
     ],
     "language": "python",
     "metadata": {},
     "outputs": [],
     "prompt_number": 8
    },
    {
     "cell_type": "code",
     "collapsed": false,
     "input": [
      "# Calculate normalized yearly playoff rating parity variable: same idea as above\n",
      "# except instead of win percentage, this variable is based on playoff rating\n",
      "for year in map(str, range(1967, 2015)):\n",
      "    yearly_parity = 0\n",
      "    for team in TEAMLIST:\n",
      "        if not (pd.isnull(allteams_frame.ix['%s' % str(int(year)-1), \n",
      "            '%s_playoff_rating' % team]) or \\\n",
      "            pd.isnull(allteams_frame.ix['%s' % year, \n",
      "            '%s_playoff_rating' % team])):\n",
      "\n",
      "            team_contribution = abs(allteams_frame.ix['%s' % year, \n",
      "                                    '%s_playoff_rating' % team] - \\\n",
      "                                    allteams_frame.ix['%s' % str(int(year)-1), \n",
      "                                    '%s_playoff_rating' % team])\n",
      "            yearly_parity = yearly_parity + team_contribution\n",
      "    allteams_frame.ix['%s' % year, 'normed_pr_parity'] = \\\n",
      "    yearly_parity/allteams_frame.ix['%s' % year, 'pr_norm_factor']"
     ],
     "language": "python",
     "metadata": {},
     "outputs": [],
     "prompt_number": 9
    },
    {
     "cell_type": "heading",
     "level": 3,
     "metadata": {},
     "source": [
      "Adapted Gini Coefficient"
     ]
    },
    {
     "cell_type": "markdown",
     "metadata": {},
     "source": [
      "The Gini Coefficient is a number that economists use to study income inequality. It provides a measure of the unequalness of the income distribution relative to a benchmark of every member of society earning an identical income. \n",
      "\n",
      "The following picture helps better explain the Gini Coefficient in its traditional setting."
     ]
    },
    {
     "cell_type": "markdown",
     "metadata": {},
     "source": [
      "<img src=\"http://upload.wikimedia.org/wikipedia/commons/thumb/5/59/Economics_Gini_coefficient2.svg/500px-Economics_Gini_coefficient2.svg.png\">"
     ]
    },
    {
     "cell_type": "markdown",
     "metadata": {},
     "source": [
      "(source: http://en.wikipedia.org/wiki/Gini_coefficient). "
     ]
    },
    {
     "cell_type": "markdown",
     "metadata": {},
     "source": [
      "The Line of Equality is the cumulative distribution function of  the benchmark scenario: every member of society earns an identical income. The Lorenz Curve is the actual cumulative distribution function of income. $A$ represents the area between the 45 degree line and the Lorenz Curve while $B$ represents the area under the Lorenz Curve. The Gini Coefficient is defined as $\\dfrac{A}{A + B}$. If every member of society earns the same income, $A = 0$ and the Gini Coefficient is $0$. If a single member of society earns all the income, then $B = 0$ and the Gini Coefficient is $1$.  \n",
      "\n",
      "The Gini Coefficient notion can be extended to our discussion of parity as follows: instead of income, consider wins. The Line of Equality is a theoretical distribution function representing every single team in the league winning half of its games. The Lorenz Curve is the actual cumulative distribution function of wins. Then we can define $A$ and $B$ in the same manner and calculate an adapted Gini Coefficient for each season. \n",
      "\n",
      "For computational simplicity, I will exploit the identity $\\dfrac{A}{A + B} = 1 - \\dfrac{B}{A + B}$. I will calculate values of $A + B$ and $B$ for each season. For a fixed year, $A + B = \\sum_{i = 1}^{N} \\frac{1}{2}gi$, where $N$ is the number of teams in the league and $g$ is the number of games in a season. The calculation is derived from each team winning half of its games - $\\frac{1}{2}g$ - summed over all teams cumulatively. Meanwhile, $B = wins_{1} + (wins_{1} + wins_{2}) + ... + \\sum_{i = 1}^{N} wins_{i}$, where the indices $i$ are an ordered list of teams from least wins to most wins (as in $wins_{1}$ is the number of games won by the team with the fewest wins in the league while $wins_{N}$ is the number of games won by the team with the most wins in the league). "
     ]
    },
    {
     "cell_type": "code",
     "collapsed": false,
     "input": [
      "# Calculate adapted Gini Coefficient \n",
      "for year in map(str, range(1966, 2015)): \n",
      "    cum_wins_frame = DataFrame(index = TEAMLIST, \n",
      "                               columns = ['theo_contrib', 'actual_contrib'])\n",
      "    for team in TEAMLIST:\n",
      "        if not pd.isnull(allteams_frame.ix['%s' % year, \n",
      "                         '%s_total_games' % team]):\n",
      "\n",
      "            team_theo_contrib = 0.5 * allteams_frame.ix['%s' % year, \n",
      "                                                        '%s_total_games' % team]\n",
      "            team_wins = allteams_frame.ix['%s' % year, '%s_wins' % team]\n",
      "            team_ties = allteams_frame.ix['%s' % year, '%s_ties' % team]\n",
      "            team_actual_contrib = team_wins + 0.5 * team_ties\n",
      "            cum_wins_frame.ix['%s' % team, 'theo_contrib'] = team_theo_contrib\n",
      "            cum_wins_frame.ix['%s' % team, \n",
      "                              'actual_contrib'] = team_actual_contrib\n",
      "            cum_wins_frame = cum_wins_frame.sort('actual_contrib', \n",
      "                                                ascending = True)\n",
      "    a_plus_b = cum_wins_frame.cumsum().sum()[0]\n",
      "    b = cum_wins_frame.cumsum().sum()[1]\n",
      "    gini = 1 - (b / a_plus_b)\n",
      "    allteams_frame.ix['%s' % year, 'a_plus_b'] = a_plus_b\n",
      "    allteams_frame.ix['%s' % year, 'b'] = b\n",
      "    allteams_frame.ix['%s' % year, 'adapted_gini_coefficient'] = gini"
     ],
     "language": "python",
     "metadata": {},
     "outputs": [],
     "prompt_number": 10
    },
    {
     "cell_type": "heading",
     "level": 1,
     "metadata": {},
     "source": [
      "Outputting Data"
     ]
    },
    {
     "cell_type": "markdown",
     "metadata": {},
     "source": [
      "Next, I output two datasets. One is for general analysis by future Python functions (ALLTEAMSfinal.csv). Another is for just the parity data and is used for regression analysis in R (paritydata.csv)."
     ]
    },
    {
     "cell_type": "code",
     "collapsed": false,
     "input": [
      "# Output a .csv file with everything\n",
      "# allteams_frame = allteams_frame.drop(allteams_frame.tail(1).index)\n",
      "allteams_frame.to_csv('Cleaned Data\\\\ALLTEAMSfinal.csv')\n",
      "\n",
      "# Output a .csv file with just the parity stats\n",
      "parityframe = DataFrame(allteams_frame['normed_pr_parity'])\n",
      "parityframe = \\\n",
      "parityframe.join(DataFrame(allteams_frame['normed_winpct_parity']))\n",
      "parityframe = \\\n",
      "parityframe.join(DataFrame(allteams_frame['adapted_gini_coefficient']))\n",
      "parityframe = parityframe.join(DataFrame(allteams_frame['salary_cap_era']))\n",
      "parityframe = parityframe.join(DataFrame(allteams_frame['free_agency_era']))\n",
      "parityframe = parityframe.drop(map(str, range(1920, 1967)))\n",
      "parityframe.to_csv('Cleaned Data\\\\paritydata.csv')"
     ],
     "language": "python",
     "metadata": {},
     "outputs": [],
     "prompt_number": 11
    }
   ],
   "metadata": {}
  }
 ]
}