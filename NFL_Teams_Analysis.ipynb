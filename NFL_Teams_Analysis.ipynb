{
 "metadata": {
  "name": "",
  "signature": "sha256:b2af91e4f81af0245cc1b7c227aab8d20f9118cb6b9f4ff960a329089d8d8957"
 },
 "nbformat": 3,
 "nbformat_minor": 0,
 "worksheets": [
  {
   "cells": [
    {
     "cell_type": "heading",
     "level": 1,
     "metadata": {},
     "source": [
      "Introduction"
     ]
    },
    {
     "cell_type": "markdown",
     "metadata": {},
     "source": [
      "In this notebook, I do some basic analysis of the historical NFL team record dataset that was created in the Importing_and_Wrangling notebook. "
     ]
    },
    {
     "cell_type": "heading",
     "level": 1,
     "metadata": {},
     "source": [
      "Preliminaries"
     ]
    },
    {
     "cell_type": "markdown",
     "metadata": {},
     "source": [
      "To begin, I import relevant packages and create global variables "
     ]
    },
    {
     "cell_type": "code",
     "collapsed": false,
     "input": [
      "import numpy as np\n",
      "import pandas as pd\n",
      "import math\n",
      "from pandas import Series, DataFrame\n",
      "from matplotlib import pyplot as plt\n",
      "%matplotlib inline\n",
      "\n",
      "# global variable for various lists and dicts of teams\n",
      "TEAMLIST = ['atl', 'buf', 'car', 'chi', 'cin', 'cle', 'clt', 'crd', 'dal', \n",
      "            'den', 'det', 'gnb', 'htx', 'jax', 'kan', 'mia', 'min', 'nor', \n",
      "      \t\t'nwe', 'nyg', 'nyj', 'oti', 'phi', 'pit', 'rai', 'ram', 'rav', \n",
      "\t\t\t'sdg', 'sea', 'sfo', 'tam', 'was']\n",
      "AFCWESTLIST = ['den', 'kan', 'rai', 'sdg']\n",
      "AFCEASTLIST = ['buf', 'mia', 'nwe', 'nyj']\n",
      "AFCNORTHLIST = ['cin', 'cle', 'pit', 'rav']\n",
      "AFCSOUTHLIST = ['clt', 'htx', 'jax', 'oti']\n",
      "NFCWESTLIST = ['crd', 'ram', 'sea', 'sfo']\n",
      "NFCEASTLIST = ['dal', 'nyg', 'phi', 'was']\n",
      "NFCNORTHLIST = ['chi', 'det', 'gnb', 'min']\n",
      "NFCSOUTHLIST = ['atl', 'car', 'nor', 'tam']\n",
      "\n",
      "DIVISIONDICT = {'afc west': AFCWESTLIST, 'afc east': AFCEASTLIST, 'afc north':\n",
      "                 AFCNORTHLIST, 'afc south': AFCSOUTHLIST, 'nfc west': \n",
      "\t\t\t\t NFCWESTLIST, 'nfc east': NFCEASTLIST, 'nfc north': \n",
      "\t\t\t\t NFCNORTHLIST, 'nfc south': NFCSOUTHLIST}\n",
      "\n",
      "TEAMDICT = {'Atlanta': 'atl', 'Buffalo': 'buf', 'Carolina': 'car', \n",
      "            'Chicago': 'chi', 'Cincinnati': 'cin', 'Cleveland': 'cle', \n",
      "\t\t\t'Indianapolis': 'clt', 'Arizona': 'crd', 'Dallas': 'dal', \n",
      "\t\t\t'Denver': 'den', 'Detroit': 'det', 'Green Bay': 'gnb', \n",
      "\t\t\t'Houston': 'htx', 'Jacksonville': 'jax', 'Kansas City': 'kan', \n",
      "\t\t\t'Miami': 'mia', 'Minnesota': 'min', 'New Orleans': 'nor', \n",
      "\t\t\t'New England': 'nwe', 'New York Giants': 'nyg', \n",
      "\t\t\t'New York Jets': 'nyj', 'Tennessee': 'oti', 'Philadelphia': 'phi', \n",
      "            'Pittsburgh': 'pit', 'Oakland': 'rai', 'St. Louis': 'ram', \n",
      "\t\t\t'Baltimore': 'rav', 'San Diego': 'sdg', 'Seattle': 'sea', \n",
      "\t\t\t'San Francisco': 'sfo', 'Tampa Bay': 'tam', 'Washington': 'was'}\n",
      "TEAMDICT2 = dict(zip(TEAMDICT.values(), TEAMDICT.keys()))"
     ],
     "language": "python",
     "metadata": {},
     "outputs": [],
     "prompt_number": 33
    },
    {
     "cell_type": "markdown",
     "metadata": {},
     "source": [
      "Next, I read in the dataset previously constructed for general data analysis so that it can be used by the various functions to be introduced. "
     ]
    },
    {
     "cell_type": "code",
     "collapsed": false,
     "input": [
      "input = pd.read_csv('Cleaned Data\\\\allteamsfinal.csv')\n",
      "input['year'] = input['year'].astype(int)\n",
      "input.index = input['year']\n",
      "input = input.drop('year', axis = 1)"
     ],
     "language": "python",
     "metadata": {},
     "outputs": [],
     "prompt_number": 34
    },
    {
     "cell_type": "markdown",
     "metadata": {},
     "source": [
      "In the following sections, I introduce a number of functions that help us conduct an explanatory analysis of the data. "
     ]
    },
    {
     "cell_type": "heading",
     "level": 1,
     "metadata": {},
     "source": [
      "Win Percentage Ranker"
     ]
    },
    {
     "cell_type": "markdown",
     "metadata": {},
     "source": [
      "The win_pct_ranker function ranks teams by their win percentage over a given period of time. The user can specify the number of teams, the start date, and the end date. "
     ]
    },
    {
     "cell_type": "code",
     "collapsed": false,
     "input": [
      "# Returns top teams by win percentage between two specified dates (inclusive)\n",
      "def win_pct_ranker(frame, numteams, startyear, endyear):\n",
      "\twin_pct_dict = {} \n",
      "\t\n",
      "\t# Shave off the front and back as required\n",
      "\tshortframe = \\\n",
      "    frame.drop(range(endyear + 1, 2015)).drop(range(1920, startyear))\n",
      "\t\n",
      "\t# First generate win percentages for all teams in the relevant interval\n",
      "\tfor team in TEAMLIST:\n",
      "\t\ttotal_games = shortframe['%s_total_games' % team].sum()\n",
      "\t\ttotal_wins = shortframe['%s_wins' % team].sum()\n",
      "\t\ttotal_ties = shortframe['%s_ties' % team].sum()\n",
      "\t\twin_pct = (total_wins + .5 * total_ties)/total_games\n",
      "\t\twin_pct_dict['%s' % TEAMDICT2[team]] = win_pct\n",
      "\t\n",
      "\t# Then sort by win percentage, discard unneeded teams, return\n",
      "\treturn DataFrame(win_pct_dict, \n",
      "\t    index = ['Win Percentage']).T.sort('Win Percentage', \n",
      "\t\tascending=False)[:numteams]"
     ],
     "language": "python",
     "metadata": {},
     "outputs": [],
     "prompt_number": 35
    },
    {
     "cell_type": "markdown",
     "metadata": {},
     "source": [
      "Next, we'll test this function out with a quick client. We'll start with the five best teams of the 1980s. "
     ]
    },
    {
     "cell_type": "code",
     "collapsed": false,
     "input": [
      "print win_pct_ranker(input, 5, 1980, 1989)"
     ],
     "language": "python",
     "metadata": {},
     "outputs": [
      {
       "output_type": "stream",
       "stream": "stdout",
       "text": [
        "               Win Percentage\n",
        "San Francisco        0.687500\n",
        "Washington           0.638158\n",
        "Miami                0.621711\n",
        "Denver               0.615132\n",
        "Chicago              0.605263\n"
       ]
      }
     ],
     "prompt_number": 36
    },
    {
     "cell_type": "markdown",
     "metadata": {},
     "source": [
      "This function can also be used to rank every team in the NFL by their all-time win percentages. "
     ]
    },
    {
     "cell_type": "code",
     "collapsed": false,
     "input": [
      "print win_pct_ranker(input, 32, 1920, 2014)"
     ],
     "language": "python",
     "metadata": {},
     "outputs": [
      {
       "output_type": "stream",
       "stream": "stdout",
       "text": [
        "                 Win Percentage\n",
        "Dallas                 0.574341\n",
        "Chicago                0.571861\n",
        "Green Bay              0.565606\n",
        "Miami                  0.565160\n",
        "San Francisco          0.556548\n",
        "Baltimore              0.554276\n",
        "New York Giants        0.543755\n",
        "New England            0.543660\n",
        "Minnesota              0.538929\n",
        "Denver                 0.537081\n",
        "Indianapolis           0.533224\n",
        "Cleveland              0.532813\n",
        "Oakland                0.529306\n",
        "Pittsburgh             0.524911\n",
        "Kansas City            0.514354\n",
        "San Diego              0.505383\n",
        "Washington             0.504766\n",
        "St. Louis              0.500000\n",
        "Seattle                0.498366\n",
        "Philadelphia           0.485965\n",
        "Tennessee              0.483254\n",
        "Carolina               0.473438\n",
        "Buffalo                0.465311\n",
        "Jacksonville           0.459375\n",
        "Detroit                0.459072\n",
        "New York Jets          0.455742\n",
        "Cincinnati             0.452348\n",
        "New Orleans            0.442412\n",
        "Atlanta                0.432181\n",
        "Houston                0.423077\n",
        "Arizona                0.422387\n",
        "Tampa Bay              0.384804\n"
       ]
      }
     ],
     "prompt_number": 37
    },
    {
     "cell_type": "markdown",
     "metadata": {},
     "source": [
      "This function can be used to reveal a lot of interesting historical tidbits about the league. One interesting aspect of the all-time win percentages for every team is how they break down by division. For example, all four of the current AFC West teams - Oakland, Denver, Kansas City, and San Diego - are historically above .500. While division structure has changed a bit over time, these four have been aligned for much their existences, suggesting strong overall performance by the quartet in non-divisional games. Meanwhile, the current NFC South - Carolina, New Orleans, Atlanta, and Tampa Bay - is below .500 and in fact all but Carolina are among the five worst teams of all time. \n",
      "\n",
      "Meanwhile, some teams that have not accomplished much over the last 20 years or so remain among the league's all-time greats (Chicago, Miami, Oakland). "
     ]
    },
    {
     "cell_type": "markdown",
     "metadata": {},
     "source": [
      "Another interesting way to cut the data is to look at all 32 teams since the creation of the Super Bowl in 1966. "
     ]
    },
    {
     "cell_type": "code",
     "collapsed": false,
     "input": [
      "print win_pct_ranker(input, 32, 1966, 2014)"
     ],
     "language": "python",
     "metadata": {},
     "outputs": [
      {
       "output_type": "stream",
       "stream": "stdout",
       "text": [
        "                 Win Percentage\n",
        "Dallas                 0.601064\n",
        "Pittsburgh             0.581782\n",
        "Denver                 0.565824\n",
        "Miami                  0.565160\n",
        "San Francisco          0.563165\n",
        "Baltimore              0.554276\n",
        "Minnesota              0.553856\n",
        "Oakland                0.543883\n",
        "New England            0.541888\n",
        "Green Bay              0.540559\n",
        "Indianapolis           0.527261\n",
        "Washington             0.521941\n",
        "St. Louis              0.513298\n",
        "Kansas City            0.510638\n",
        "Philadelphia           0.509309\n",
        "Seattle                0.498366\n",
        "Chicago                0.492021\n",
        "San Diego              0.487367\n",
        "New York Giants        0.486702\n",
        "Tennessee              0.476729\n",
        "Carolina               0.473438\n",
        "New York Jets          0.459441\n",
        "Jacksonville           0.459375\n",
        "Cincinnati             0.452348\n",
        "Buffalo                0.452128\n",
        "Cleveland              0.451705\n",
        "New Orleans            0.442412\n",
        "Atlanta                0.432181\n",
        "Arizona                0.428191\n",
        "Houston                0.423077\n",
        "Detroit                0.416223\n",
        "Tampa Bay              0.384804\n"
       ]
      }
     ],
     "prompt_number": 38
    },
    {
     "cell_type": "markdown",
     "metadata": {},
     "source": [
      "The Cleveland Browns have an overall win percentage of .534, but are only .452 since the creation of the Super Bowl. They have yet to appear in a Super Bowl, contributing to the city's noted lack of sporting success across many sports. This is but one case of a team's fortunes changing over time. With this in mind, it makes sense to look at how cumulative records have changed for teams over time. It's a bit confusing to try to look at all 32 teams at the same time, so we'll break things down by division for cleaner graphics. "
     ]
    },
    {
     "cell_type": "heading",
     "level": 1,
     "metadata": {},
     "source": [
      "Cumulative Win Percentage Plotter"
     ]
    },
    {
     "cell_type": "code",
     "collapsed": false,
     "input": [
      "# Plot cumulative records of all teams over time \n",
      "def win_pct_plotter(frame, division):\n",
      "\tdivision_list = DIVISIONDICT[division.lower()]\n",
      "\twpframeindex = frame.index\n",
      "\twpframe = DataFrame(index = wpframeindex)\n",
      "\tfor team in division_list:\n",
      "\t\tindivteamframe = DataFrame(frame['%s_cumulative_win_percentage' % team])\n",
      "\t\tindivteamframe.rename(columns={'%s_cumulative_win_percentage' % team: \n",
      "                                       '%s' % TEAMDICT2[team]}, inplace = True)\n",
      "\t\twpframe = wpframe.join(indivteamframe)\n",
      "\twpframe = wpframe.reindex(index = wpframe.index[::-1])\n",
      "\twpframe.plot(yticks = [.2, .3, .4, .5, .6, .7], \n",
      "\t             title = \n",
      "\t\t\t\t 'Cumulative Win Percentages of %s Teams' % division.title())\n"
     ],
     "language": "python",
     "metadata": {},
     "outputs": [],
     "prompt_number": 39
    },
    {
     "cell_type": "code",
     "collapsed": false,
     "input": [
      "win_pct_plotter(input, 'NFC South')"
     ],
     "language": "python",
     "metadata": {},
     "outputs": [
      {
       "metadata": {},
       "output_type": "display_data",
       "png": "[encoded data removed]",
       "text": [
        "<matplotlib.figure.Figure at 0xa241a20>"
       ]
      }
     ],
     "prompt_number": 40
    },
    {
     "cell_type": "code",
     "collapsed": false,
     "input": [
      "win_pct_plotter(input, 'afc north')"
     ],
     "language": "python",
     "metadata": {},
     "outputs": [
      {
       "metadata": {},
       "output_type": "display_data",
       "png": "[encoded data removed]",
       "text": [
        "<matplotlib.figure.Figure at 0xa73e898>"
       ]
      }
     ],
     "prompt_number": 41
    },
    {
     "cell_type": "code",
     "collapsed": false,
     "input": [
      "win_pct_plotter(input, 'afc east')"
     ],
     "language": "python",
     "metadata": {},
     "outputs": [
      {
       "metadata": {},
       "output_type": "display_data",
       "png": "[encoded data removed]",
       "text": [
        "<matplotlib.figure.Figure at 0xa260710>"
       ]
      }
     ],
     "prompt_number": 42
    },
    {
     "cell_type": "markdown",
     "metadata": {},
     "source": [
      "Above are plots of cumulative records for the NFC South, AFC North, and AFC East. For now, I'll discuss the AFC East. \n",
      "\n",
      "The AFC East is a storied division, with all four teams having achieved notable success at one point or another. The New York Jets famously won Super Bowl III as major underdogs after quarterback Joe Namath audaciously guaranteed a victory. But since this victory in the 1968-69 season, it's been mostly downhill. The Buffalo Bills were an exceptional franchise very early in their history and again shot up the ranks in the late '80s and early '90s. Their record of making four consecutive Super Bowls (all of which they lost) will likely never be broken, and after nearly cracking the .500 mark as the '90s came to a close they have regressed. \n",
      "\n",
      "Perhaps most interesting are the histories of the Dolphins and Patriots. The Dolphins remain the only team in NFL history to go undefeated in the regular season and win the Super Bowl, a feat which they accomplished in 1972. They followed that up with another Super Bowl victory in 1973. Though they have not won a Super Bowl since 1973, Miami sustained its high level of play through quarterback Dan Marino's career which ended in 1998. Since this time, the team has fallen off a bit but retains a very respectable cumulative win percentage. Meanwhile, the Patriots were a slightly mediocre franchise prior to the arrival of head coach Bill Belichick and quarterback Tom Brady in 2000. Since then, their cumulative win percentage has risen dramatically, but they have yet to catch the Dolphins. It will be interesting to see whether Brady and Belichick stick around long enough for the Patriots to finally catch up to the Dolphins. \n",
      "\n",
      "Note that gaps in some lines represent periods during which the teams in question briefly ceased to exist."
     ]
    },
    {
     "cell_type": "heading",
     "level": 1,
     "metadata": {},
     "source": [
      "Golden Eras"
     ]
    },
    {
     "cell_type": "markdown",
     "metadata": {},
     "source": [
      "So far, we have only considered wins and losses. But the raw data also includes information on how each franchise ranked in terms of points scored, yards gained, points allowed, and yards allowed. With this in hand, we can identify \"Golden Eras\" for each franchise. The idea behind Golden Eras is to find instances during which a team performed at an exceptional level on either offense or defense for a sustained period of time. Many such units earn nicknames - Pittsburgh's \"Steel Curtain\" defense, Minnesota's \"Purple People Eaters\" defense, the St. Louis Rams' \"Greatest Show on Turf\" offense serve as examples. I was curious to see how this was borne out in the data. Formally, I've defined a Golden Era on offense as a period of four or more years during which a team ranks in either the top five of scoring offense or yards offense. Defensive Golden Eras are defined similarly for the defensive stats. This is a somewhat loose definition as it allows a team to drop out of the top five in one of the two categories. \n",
      "\n",
      "I wrote two functions to deal with Golden Eras: one to find them and one to print them in a readable fashion. To start, I created a new object specially for the task. "
     ]
    },
    {
     "cell_type": "code",
     "collapsed": false,
     "input": [
      "# Define Golden Era class\n",
      "class GoldenEra:\n",
      "\t\n",
      "\t# A Golden Era corresponds to a team, a side of the football, and a dict \n",
      "\t# with years for keys and a two-element list consisting of the points rank \n",
      "\t# and yards rank\n",
      "\tdef __init__(self, team, side):\n",
      "\t\tself.team = team\n",
      "\t\tself.side = side\n",
      "\t\tself.era = {}\n"
     ],
     "language": "python",
     "metadata": {},
     "outputs": [],
     "prompt_number": 43
    },
    {
     "cell_type": "markdown",
     "metadata": {},
     "source": [
      "Next is a function that takes a team and a side of the ball as input and searches for Golden Eras. For now, I'm only considering Golden Eras during the Super Bowl Era (1966 and after). The function starts in 1966 and checks if the current year could be the valid start of a Golden Era. If not, it steps a year forward. If the current year could be a valid start, it checks the next year and so on. If it has discovered four straight years that constitute a Golden Era, it continues walking forward until the Golden Era ends, then documents the Golden Era and jumps forward the appropriate distance. "
     ]
    },
    {
     "cell_type": "code",
     "collapsed": false,
     "input": [
      "# Searches for 'Golden Eras' for a specified team. A Golden Era is defined as a \n",
      "# period of at least four consecutive years during which a team ranked in top \n",
      "# five of either points or yards scored (or points or yards allowed). Returns a \n",
      "# dict of Golden Eras\n",
      "def golden_era_search(frame, team, side):\n",
      "\t\n",
      "\t# Create a dict to translate the side input into the correct stat search\n",
      "\tside_dict = {'Offense': 'offensive', 'Defense': 'defensive'}\n",
      "\tside_ive = side_dict[side]\n",
      "\t\n",
      "\t# Create a dict of Golden Eras with inception year for keys, Golden Eras for\n",
      "\t# values\n",
      "\tgolden_era_dict = {}\n",
      "\t\n",
      "\t# Start from the beginning of the franchise and move forward\n",
      "\ti = 1966\n",
      "\twhile i < 2012:\n",
      "\t\tif frame['%s_%s_rank_points' % (team, side_ive)][i] < 6 or \\\n",
      "\t\t    frame['%s_%s_rank_yards' % (team, side_ive)][i] < 6:\n",
      "\t\t\t\n",
      "\t\t\tif frame['%s_%s_rank_points' % (team, side_ive)][i + 1] < 6 or \\\n",
      "\t\t\t    frame['%s_%s_rank_yards' % (team, side_ive)][i + 1] < 6:\n",
      "\t\t\t\t\n",
      "\t\t\t\tif frame['%s_%s_rank_points' % (team, side_ive)][i + 2] < 6 or \\\n",
      "\t\t\t\t    frame['%s_%s_rank_yards' % (team, side_ive)][i + 2] < 6: \n",
      "\t\t\t\t\t\n",
      "\t\t\t\t\tif frame['%s_%s_rank_points' % \n",
      "\t\t\t\t\t    (team, side_ive)][i + 3] < 6 or frame['%s_%s_rank_yards'\n",
      "\t\t\t\t\t\t% (team, side_ive)][i + 3] < 6:\n",
      "\t\t\t\t\t   \n",
      "\t\t\t\t\t\t# If this statement is entered, we've discovered a \n",
      "\t\t\t\t\t\t# Golden Era. Continue stepping forward until it ends, \n",
      "\t\t\t\t\t\t# then document it\n",
      "\t\t\t\t\t\tj = 1\n",
      "\t\t\t\t\t\tstill_golden = True\n",
      "\t\t\t\t\t\twhile still_golden and i + 3 + j < 2015:\n",
      "\t\t\t\t\t\t\tif frame['%s_%s_rank_points' %\n",
      "\t\t\t\t\t\t\t    (team, side_ive)][i + 3 + j] < 6 or \\\n",
      "\t\t\t\t\t\t\t    frame['%s_%s_rank_yards' % \n",
      "\t\t\t\t\t\t\t\t(team, side_ive)][i + 3 + j] < 6:\n",
      "\t\t\t\t\t\t\t\t\t  \n",
      "\t\t\t\t\t\t\t    j = j + 1\n",
      "\t\t\t\t\t\t\telse:\n",
      "\t\t\t\t\t\t\t\tstill_golden = False\n",
      "\t\t\t\t\t\tgolden_era_dict[i] = GoldenEra('%s' % team, '%s' % side)\n",
      "\t\t\t\t\t\tfor k in range(i, i + 3 + j):\n",
      "\t\t\t\t\t\t\tgolden_era_dict[i].era[k] = \\\n",
      "\t\t\t\t\t\t\tlist([frame['%s_%s_rank_points' % \n",
      "\t\t\t\t\t\t\t(team, side_ive)][k], frame['%s_%s_rank_yards' % \n",
      "\t\t\t\t\t\t\t(team, side_ive)][k]])\n",
      "\t\t\t\t\t\ti = i + 4 + j\n",
      "\t\t\t\t\telse: \n",
      "\t\t\t\t\t\ti = i + 4\n",
      "\t\t\t\telse:\n",
      "\t\t\t\t\ti = i + 3\n",
      "\t\t\telse:\n",
      "\t\t\t\ti = i + 2\n",
      "\t\telse:\n",
      "\t\t\ti = i + 1\n",
      "\treturn golden_era_dict\n"
     ],
     "language": "python",
     "metadata": {},
     "outputs": [],
     "prompt_number": 44
    },
    {
     "cell_type": "markdown",
     "metadata": {},
     "source": [
      "Golden Eras are somewhat unwieldy objects so a function to print them is necessary. The function takes in a dictionary of Golden Eras, a team, and a side of the ball. If the dictionary is empty, it prints a message indicating as much. Otherwise, it steps through the dictionary of Golden Eras and prints each one. "
     ]
    },
    {
     "cell_type": "code",
     "collapsed": false,
     "input": [
      "# Print out a dict of Golden Eras in an appealing manner\n",
      "def golden_era_printer(golden_era_dict, squad, side):\n",
      "\t\n",
      "\t# If a team has never had a Golden Era, return explanatory message\n",
      "\tif golden_era_dict == {}:\n",
      "\t\tprint '%s has never had a Golden Era on %s. Ouch!' % (TEAMDICT2[squad], \n",
      "\t\tside.lower())\n",
      "\t\t\t\t\t   \n",
      "\t# If a team has had a Golden Era, \n",
      "\telse:\n",
      "\t\torderedkeys = np.sort(golden_era_dict.keys())\n",
      "\t\tprint '%s %s Golden Eras' % \\\n",
      "\t\t(TEAMDICT2[golden_era_dict[orderedkeys[0]].team], side)\n",
      "\t\tfor key in orderedkeys:\n",
      "\t\t\tprint DataFrame(golden_era_dict[key].era, index = ['%s Points Rank' \n",
      "\t\t\t% side, '%s Yards Rank' % side]).sort().T"
     ],
     "language": "python",
     "metadata": {},
     "outputs": [],
     "prompt_number": 45
    },
    {
     "cell_type": "heading",
     "level": 5,
     "metadata": {},
     "source": [
      "Exploring Golden Eras"
     ]
    },
    {
     "cell_type": "markdown",
     "metadata": {},
     "source": [
      "Let's search for Golden Eras in the NFC West. "
     ]
    },
    {
     "cell_type": "code",
     "collapsed": false,
     "input": [
      "for squad in NFCWESTLIST:\n",
      "\tgolden_era_printer(golden_era_search(input, '%s' % squad, 'Offense'), \n",
      "\t                   squad, 'Offense')\n",
      "\tprint ' '\n",
      "\tgolden_era_printer(golden_era_search(input, '%s' % squad, 'Defense'), \n",
      "\t                   squad, 'Defense')\n",
      "\tprint '--------------------------------------'\n",
      "\tprint ' '\n",
      "\tprint ' '\n",
      "\tprint ' '\n",
      "\tprint '--------------------------------------'"
     ],
     "language": "python",
     "metadata": {},
     "outputs": [
      {
       "output_type": "stream",
       "stream": "stdout",
       "text": [
        "Arizona Offense Golden Eras\n",
        "      Offense Points Rank  Offense Yards Rank\n",
        "1967                    8                   4\n",
        "1968                    4                   7\n",
        "1969                    5                   9\n",
        "1970                    4                   3\n",
        " \n",
        "Arizona has never had a Golden Era on defense. Ouch!\n",
        "--------------------------------------\n",
        " \n",
        " \n",
        " \n",
        "--------------------------------------\n",
        "St. Louis Offense Golden Eras\n",
        "      Offense Points Rank  Offense Yards Rank\n",
        "1967                    1                   6\n",
        "1968                    5                   8\n",
        "1969                    4                  12\n",
        "1970                    4                   6\n",
        "1971                    5                   8\n",
        " \n",
        "St. Louis Defense Golden Eras\n",
        "      Defense Points Rank  Defense Yards Rank\n",
        "1966                    2                   4\n",
        "1967                    1                   3\n",
        "1968                    3                   1\n",
        "1969                    5                   6\n",
        "1970                    2                   3\n",
        "      Defense Points Rank  Defense Yards Rank\n",
        "1973                    4                   1\n",
        "1974                    1                   3\n",
        "1975                    1                   2\n",
        "1976                    3                   4\n",
        "1977                    2                   4\n",
        "1978                    4                   1\n",
        "--------------------------------------\n",
        " \n",
        " \n",
        " \n",
        "--------------------------------------\n",
        "Seattle has never had a Golden Era on offense. Ouch!\n",
        " \n",
        "Seattle has never had a Golden Era on defense. Ouch!\n",
        "--------------------------------------\n",
        " \n",
        " \n",
        " \n",
        "--------------------------------------\n",
        "San Francisco Offense Golden Eras\n",
        "      Offense Points Rank  Offense Yards Rank\n",
        "1968                    6                   3\n",
        "1969                   10                   2\n",
        "1970                    1                   2\n",
        "1971                    9                   3\n",
        "1972                    4                   8\n",
        "      Offense Points Rank  Offense Yards Rank\n",
        "1982                    7                   3\n",
        "1983                    4                   4\n",
        "1984                    2                   2\n",
        "1985                    5                   2\n",
        "1986                    7                   3\n",
        "1987                    1                   1\n",
        "1988                    7                   2\n",
        "1989                    1                   1\n",
        "1990                    8                   2\n",
        "1991                    3                   3\n",
        "1992                    1                   1\n",
        "1993                    1                   1\n",
        "1994                    1                   2\n",
        "1995                    1                   2\n",
        "1996                    3                   6\n",
        "1997                    5                  12\n",
        "1998                    3                   1\n",
        " \n",
        "San Francisco Defense Golden Eras\n",
        "      Defense Points Rank  Defense Yards Rank\n",
        "1983                    4                  10\n",
        "1984                    1                  10\n",
        "1985                    2                  14\n",
        "1986                    3                   6\n",
        "1987                    3                   1\n",
        "1988                    8                   3\n",
        "1989                    3                   4\n",
        "1990                    2                   3\n",
        "1991                    4                   6\n",
        "1992                    3                  15\n",
        "      Defense Points Rank  Defense Yards Rank\n",
        "2011                    2                   4\n",
        "2012                    2                   3\n",
        "2013                    3                   5\n",
        "2014                   10                   5"
       ]
      },
      {
       "output_type": "stream",
       "stream": "stdout",
       "text": [
        "\n",
        "--------------------------------------\n",
        " \n",
        " \n",
        " \n",
        "--------------------------------------\n"
       ]
      }
     ],
     "prompt_number": 46
    },
    {
     "cell_type": "markdown",
     "metadata": {},
     "source": [
      "There are a few interesting observations to be made. The Rams - then in Los Angeles - boast a six year Golden Era on defense from 1973-1978. In fact, they ranked in both the top four for yards and points defense throughout the period. This corresponds to the reign of the \"Fearsome Foursome\", a defensive line led by Hall of Famers Deacon Jones and Merlin Olsen. However, the Rams' \"Greatest Show on Turf\" offense doesn't make the cut. From 1999-2001, the Rams finished first in both points and yards on offense. But the team collapsed with a thud in 2002, dropping to 23rd in points and 13th in yards largely due to injuries. Seattle's current defense may well be at the start of a long Golden Era. Though it has qualiffied for the last three years, in 2011 it narrowly missed and thus needs another year to earn Golden Era status.\n",
      "\n",
      "Meanwhile, the 49ers boast both the longest Golden Era (offense: 1982-1998) and longest double Golden Era, corresponding to both sides of the ball being in a Golden Era (1983-1992) of any team in the division (and indeed any team in the dataset). The offense was largely quarterbacked by Joe Montana and Steve Young, two Hall of Famers. Both threw passes to wide receiver Jerry Rice, easily the best player at his position in NFL history. Meanwhile, the defense was led by Hall of Famer Ronnie Lott. The 49ers won the Super Bowl in 1981, 1984, 1988, 1989, and 1994. One might conclude from this period that the key to success both in the regular season and playoffs is sustained excellence on both sides of the ball. But this isn't immediately clear when considering the rest of the data. The case of the Washington Redskins is particularly interesting. "
     ]
    },
    {
     "cell_type": "code",
     "collapsed": false,
     "input": [
      "golden_era_printer(golden_era_search(input, 'was', 'Offense'), 'was', 'Offense')\n",
      "golden_era_printer(golden_era_search(input, 'was', 'Defense'), 'was', 'Defense')"
     ],
     "language": "python",
     "metadata": {},
     "outputs": [
      {
       "output_type": "stream",
       "stream": "stdout",
       "text": [
        "Washington has never had a Golden Era on offense. Ouch!\n",
        "Washington has never had a Golden Era on defense. Ouch!\n"
       ]
      }
     ],
     "prompt_number": 47
    },
    {
     "cell_type": "code",
     "collapsed": false,
     "input": [
      "print win_pct_ranker(input, 5, 1981, 1992)"
     ],
     "language": "python",
     "metadata": {},
     "outputs": [
      {
       "output_type": "stream",
       "stream": "stdout",
       "text": [
        "               Win Percentage\n",
        "San Francisco        0.741848\n",
        "Washington           0.673913\n",
        "Miami                0.638587\n",
        "Chicago              0.608696\n",
        "Denver               0.600543\n"
       ]
      }
     ],
     "prompt_number": 48
    },
    {
     "cell_type": "markdown",
     "metadata": {},
     "source": [
      "Despite not having any Golden Eras, Washington nipped at San Francisco's heels throughout the '80s. Washington appeared in four Super Bowls during the 1981-1992 period, winning three. With head coach Joe Gibbs the constant, the team employed various strategies to win. Notably, the three Super Bowl wins came with three different quarterbacks at the helm. Next, we'll consider the AFC East. "
     ]
    },
    {
     "cell_type": "code",
     "collapsed": false,
     "input": [
      "for squad in AFCEASTLIST:\n",
      "\tgolden_era_printer(golden_era_search(input, '%s' % squad, 'Offense'), \n",
      "\t                   squad, 'Offense')\n",
      "\tprint ' '\n",
      "\tgolden_era_printer(golden_era_search(input, '%s' % squad, 'Defense'), \n",
      "\t                   squad, 'Defense')\n",
      "\tprint '--------------------------------------'\n",
      "\tprint ' '\n",
      "\tprint ' '\n",
      "\tprint ' '\n",
      "\tprint '--------------------------------------'"
     ],
     "language": "python",
     "metadata": {},
     "outputs": [
      {
       "output_type": "stream",
       "stream": "stdout",
       "text": [
        "Buffalo Offense Golden Eras\n",
        "      Offense Points Rank  Offense Yards Rank\n",
        "1989                    3                   5\n",
        "1990                    1                   6\n",
        "1991                    2                   1\n",
        "1992                    3                   2\n",
        " \n",
        "Buffalo has never had a Golden Era on defense. Ouch!\n",
        "--------------------------------------\n",
        " \n",
        " \n",
        " \n",
        "--------------------------------------\n",
        "Miami Offense Golden Eras\n",
        "      Offense Points Rank  Offense Yards Rank\n",
        "1971                    4                   5\n",
        "1972                    1                   1\n",
        "1973                    5                   9\n",
        "1974                    3                  11\n",
        "      Offense Points Rank  Offense Yards Rank\n",
        "1984                    1                   1\n",
        "1985                    4                   6\n",
        "1986                    1                   2\n",
        "1987                    7                   4\n",
        "1988                   17                   5\n",
        " \n",
        "Miami Defense Golden Eras\n",
        "      Defense Points Rank  Defense Yards Rank\n",
        "1969                    7                   5\n",
        "1970                    5                  15\n",
        "1971                    3                   5\n",
        "1972                    1                   1\n",
        "1973                    1                   3\n",
        "      Defense Points Rank  Defense Yards Rank\n",
        "1998                    1                   3\n",
        "1999                   19                   5\n",
        "2000                    3                   6\n",
        "2001                   11                   5\n",
        "2002                    4                   3\n",
        "2003                    3                  10\n",
        "--------------------------------------\n",
        " \n",
        " \n",
        " \n",
        "--------------------------------------\n",
        "New England Offense Golden Eras\n",
        "      Offense Points Rank  Offense Yards Rank\n",
        "2007                    1                   1\n",
        "2008                    8                   5\n",
        "2009                    6                   3\n",
        "2010                    1                   8\n",
        "2011                    3                   2\n",
        "2012                    1                   1\n",
        "2013                    3                   7\n",
        "2014                    4                  11\n",
        " \n",
        "New England has never had a Golden Era on defense. Ouch!\n",
        "--------------------------------------\n",
        " \n",
        " \n",
        " \n",
        "--------------------------------------\n",
        "New York Jets Offense Golden Eras\n",
        "      Offense Points Rank  Offense Yards Rank\n",
        "1966                    5                   2\n",
        "1967                    3                   1\n",
        "1968                    2                   3\n",
        "1969                    3                   4"
       ]
      },
      {
       "output_type": "stream",
       "stream": "stdout",
       "text": [
        "\n",
        " \n",
        "New York Jets Defense Golden Eras\n",
        "      Defense Points Rank  Defense Yards Rank\n",
        "1966                    6                   4\n",
        "1967                    5                   3\n",
        "1968                    4                   1\n",
        "1969                    3                   4\n",
        "1970                   18                   5\n",
        "--------------------------------------\n",
        " \n",
        " \n",
        " \n",
        "--------------------------------------\n"
       ]
      }
     ],
     "prompt_number": 49
    },
    {
     "cell_type": "markdown",
     "metadata": {},
     "source": [
      "The Jets boast Golden Eras on both sides of the ball around the time that they won their only Super Bowl (1968 season). Meanwhile, the Patriots' offense has been in an ongoing Golden Era on offense since 2007. Yet this offense has came up short in the first two Super Bowl appearances the team made during the period. Meanwhile, the franchise won Super Bowls in 2001, 2003, and 2004 with an offense comprised of less heralded players who punched above their weight in big games. There are more stories to discuss here but for now we move on to a discussion of parity. "
     ]
    },
    {
     "cell_type": "heading",
     "level": 1,
     "metadata": {},
     "source": [
      "Parity Statistics"
     ]
    },
    {
     "cell_type": "markdown",
     "metadata": {},
     "source": [
      "In the previous notebook, we defined a number of statistics to help us think about how parity in the NFL has changed over time. I will now plot those statistics so that we have a better picture of how they've changed. "
     ]
    },
    {
     "cell_type": "heading",
     "level": 2,
     "metadata": {},
     "source": [
      "Initial Plots"
     ]
    },
    {
     "cell_type": "code",
     "collapsed": false,
     "input": [
      "winpct_pr_plot_frame = DataFrame(index = input.index)\n",
      "gini_plot_frame = DataFrame(index = input.index)\n",
      "win_pct_and_parity = DataFrame(input[['normed_winpct_parity', \n",
      "\t\t\t\t\t\t\t\t\t  'normed_pr_parity']])\n",
      "gini = DataFrame(input[['adapted_gini_coefficient']])\n",
      "winpct_pr_plot_frame = winpct_pr_plot_frame.join(win_pct_and_parity)\n",
      "gini_plot_frame = gini_plot_frame.join(gini)\n",
      "winpct_pr_plot_frame = winpct_pr_plot_frame.rename(columns = \n",
      "\t\t\t\t\t\t\t\t\t\t\t\t  {'normed_winpct_parity': \n",
      "\t\t\t\t\t\t\t\t\t\t\t\t   'Win Percentage Parity',\n",
      "\t\t\t\t\t\t\t\t\t\t\t\t   'normed_pr_parity':\n",
      "\t\t\t\t\t\t\t\t\t\t\t\t   'Playoff Rating Parity'})\n",
      "gini_plot_frame = gini_plot_frame.rename(columns = \n",
      "\t\t\t\t\t\t\t\t\t\t{'adapted_gini_coefficient': \n",
      "\t\t\t\t\t\t\t\t\t\t 'Adapted Gini Coefficient'})\n",
      "winpct_pr_plot_frame.index.name = 'Year'\n",
      "gini_plot_frame.index.name = 'Year'\n",
      "wp_pr_title = 'Win Percentage Parity, Playoff Rating Parity Over Time'\n",
      "gini_title = 'Adapted Gini Coefficient Over Time'\n",
      "winpct_pr_plot_frame.plot(xticks = [1965, 1975, 1985, 1995, 2005, 2015],\n",
      "\t\t\t\t\t\t  title = wp_pr_title)\n",
      "gini_plot_frame.plot(xticks = [1965, 1975, 1985, 1995, 2005, 2015],\n",
      "\t\t\t\t\t title = gini_title)\n"
     ],
     "language": "python",
     "metadata": {},
     "outputs": [
      {
       "metadata": {},
       "output_type": "pyout",
       "prompt_number": 50,
       "text": [
        "<matplotlib.axes.AxesSubplot at 0xa2414a8>"
       ]
      },
      {
       "metadata": {},
       "output_type": "display_data",
       "png": "[encoded data removed]",
       "text": [
        "<matplotlib.figure.Figure at 0xa1751d0>"
       ]
      },
      {
       "metadata": {},
       "output_type": "display_data",
       "png": "[encoded data removed]",
       "text": [
        "<matplotlib.figure.Figure at 0xa175b38>"
       ]
      }
     ],
     "prompt_number": 50
    },
    {
     "cell_type": "markdown",
     "metadata": {},
     "source": [
      "A cursory glance at these plots does not reveal too much. It's clear that playoff rating parity is higher than win percentage parity but this is to be expected as there are only a few playoff teams. Neither series appears to exhibit much of a trend over time. Meanwhile, the Gini Coefficient appears to have a downward trajectory. In addition, its variance appears to shrink over time. To better understand what is going on in these graphs, I will output the data so as to conduct various analyses in R. "
     ]
    },
    {
     "cell_type": "heading",
     "level": 2,
     "metadata": {},
     "source": [
      "Statistical Analysis"
     ]
    },
    {
     "cell_type": "heading",
     "level": 5,
     "metadata": {},
     "source": [
      "Least Squares Regression"
     ]
    },
    {
     "cell_type": "markdown",
     "metadata": {},
     "source": [
      "There are many ways that we can think about modeling the evolution of the parity statistics over time. The simplest approach is as follows:\n",
      "\n",
      "$y_{t} = \\beta_{0} + \\beta_{1} t + \\epsilon_{t}$, $\\epsilon_{t} \\sim iid$ $N(0, \\sigma^{2})$ $(1)$\n",
      "\n",
      "In this model, $y_{t}$ represents the outcome variable (any of the parity statistics) in year $t$, $\\beta_{0}$ is an intercept, $\\beta_{1}$ represents the impact of time on the outcome, and $\\epsilon_{t}$ is the error in time $t$. Our assumption here is that the errors are independently and identically distributed normal random variables with mean zero and variance $\\sigma^{2}$. \n",
      "\n",
      "Next, consider three improvements on the basic model:\n",
      "\n",
      "$y_{t} = \\beta_{0} + \\beta_{1} t + \\beta_{2} SalaryCapEra + \\epsilon_{t}$ $(2)$\n",
      "\n",
      "$y_{t} = \\beta_{0} + \\beta_{1} t + \\beta_{2} PostSalaryCapTrendDiff + \\epsilon_{t}$ $(3)$\n",
      "\n",
      "$y_{t} = \\beta_{0} + \\beta_{1} t + \\beta_{2} SalaryCapEra + \\beta_{3} PostSalaryCapTrendDiff + \\epsilon_{t}$ $(4)$\n",
      "\n",
      "The $SalaryCapEra$ variable is a dummy variable equal to 1 during the salary cap era, which began in 1994. Thus, model 2 tests whether there was a discontinuous jump in the outcome starting in 1994. The $PostSalaryCapTrendDiff$ variable is an interaction between $SalaryCapEra$ and $t$. Model 3 tests whether there was a change in slope of the outcome variable with respect to time following the inception of the salary cap. Model 4 addresses the possibility of there being both a jump and change in slope. \n",
      "\n",
      "Regressions for each of the four models and three outcome variables were computed in R. The results are in the file OLSresults.txt. For win percentage parity, only Model 1 has significant coefficients. The year trend is positive, suggesting a gradual increase in win percentage parity. But the adjusted R-squared is only 0.1736. And the introduction of the other variables in models 2-4 kills any significance while slightly reducing the adjusted R-squared. There does not seem to be much of a pattern here. Playoff rating parity follows a very similar pattern: the basic model has a significant positive time effect but an adjusted R-squared of 0.1229, and introduction of the other variables kills all significance and lowers the adjusted R-squared. \n",
      "\n",
      "The adapted Gini coefficient results are a bit more interesting. In particular, the coefficients in the fourth model are all statistically significant at a 1% level. The coefficient on year is roughly -.00169, suggesting a longterm downward trend in the dispersion of records. The coefficient on $SalaryCapEra$ is roughly -5.922 suggesting a large drop in dispersion of records brought about by the salary cap. But most interestingly, the coefficient on $PostSalaryCapTrendDiff$ is roughly 0.00297. This means that since the inception of the salary cap, the effective time trend has been -0.00169 + 0.00297 = 0.0012753. Despite dispersion falling dramatically with the inception of the salary cap, the model suggests that since then it has been rising. The adjusted R-squared value is 0.2198, the best of any of the 12 models. \n",
      "\n",
      "The story here is intriguing. Perhaps that initially teams struggled to differentiate themselves following the inception of the salary cap. But as time has gone on, the best franchises have differentiated themselves through superior scouting, player development, and coaching to the extent that record dispersion is growing markedly. I hope to dig deeper into this issue. For now, I re-run the fourth Gini model using White's heteroskedasticity robust estimator to deal with the possibility that errors might not be iid normal and might instead simply be mean 0 with a variance that varies in the regressors. The use of robust standard errors leaves the intercept and year terms significant at a 1% level and actually increases the significance of $SalaryCapEra$ and $PostSalaryCapTrendDiff$ to a 0.1% level. "
     ]
    },
    {
     "cell_type": "heading",
     "level": 5,
     "metadata": {},
     "source": [
      "Test of Stationarity"
     ]
    },
    {
     "cell_type": "markdown",
     "metadata": {},
     "source": [
      "Least squares regression was a good starting point to get a general sense of what is happening. But given that these are time series data, it's important to test the stationarity of the data. Formally, if we assume our time series are generated by an underlying stochasatic process, the series is stationary if the joint distribution of k process realizations is time invariant. \n",
      "\n",
      "If the time series is not in fact stationary, then regression results are spurious. To test for this possibility, we use an augmented Dickey-Fuller test. The Dickey-Fuller test's null hypothesis is that the time series has a unit root, while the alternative hypothesis is that the time series is trend stationary (stationary around the time trend that we previously estimated). The Dickey-Fuller test was applied to each of the three time series and the results are in the AugDickeyFuller.txt file. The adapted Gini coefficient series has a p-value of 0.2877, not low enough to reject the alternative hypothesis and suggesting that the series is not stationary. The other two series have p values below 0.05, suggesting that they are in fact stationary. This result suggests the OLS results regarding the fourth Gini coefficient model might be less meaningful than we thought.\n",
      "\n"
     ]
    },
    {
     "cell_type": "heading",
     "level": 5,
     "metadata": {},
     "source": [
      "Hodrick-Prescott Filter"
     ]
    },
    {
     "cell_type": "markdown",
     "metadata": {},
     "source": [
      "While I may explore various other forms of time series regression in the future, for now I will simply compute the Hodrick-Prescott filter for each of the three statistics. The Hodrick-Prescott filter permits us to separate the trend from the cyclical variation in each time series. Formally, if $y_{t}$ is our time series data, the filter is a sequence $\\tau_{t}$ that solves the following optimization problem:"
     ]
    },
    {
     "cell_type": "markdown",
     "metadata": {},
     "source": [
      "<img src=http://upload.wikimedia.org/math/2/e/a/2eaa42f9977d2457c4650c4f7f80bfe2.png>"
     ]
    },
    {
     "cell_type": "markdown",
     "metadata": {},
     "source": [
      "The first component is the squared difference between the filter and the data. Minimizing this term pulls the filter closer to the data. But the second term penalizes the filter for changing its slope which becomes inevitable when following the data too closely. Thus, the filter balances the competing objectives of following the data without being heavily influenced by outliers. As $\\lambda \\rightarrow 0$, the filter converges to the data. As $\\lambda \\rightarrow \\infty$, the filter converges to a straight line. For our purposes, we must select the parameter $\\lambda$ ahead of time. Ravn and Uhlig (2002) suggest a value of 6.25 for annual macroeconomic data, and given that our data are annual we will adopt this convention. Below are plots of the three filtered time series. "
     ]
    },
    {
     "cell_type": "markdown",
     "metadata": {},
     "source": [
      "<img src=\"Cleaned Data\\HPFilter_WinPercentageParity.png\">"
     ]
    },
    {
     "cell_type": "markdown",
     "metadata": {},
     "source": [
      "<img src=\"Cleaned Data\\HPFilter_PlayoffRatingParity.png\">"
     ]
    },
    {
     "cell_type": "markdown",
     "metadata": {},
     "source": [
      "<img src=\"Cleaned Data\\HPFilter_AdaptedGiniCoefficient.png\">"
     ]
    },
    {
     "cell_type": "markdown",
     "metadata": {},
     "source": [
      "We close with a few comments. For now I will focus on what has happened since the salary cap, which was created in 1994. \n",
      "\n",
      "Both filtered win percentage parity and filtered playoff rating parity have fallen precipitously in recent years. This comes on the heels of a rise and sustained plateau roughly following the inception of the salary cap. There could be a number of reasons for this. I currently believe in the theory previously proposed in the linear regression section: it took NFL front offices some time to understand how to better their teams while working within the constraints of a salary cap. Over 10 years or so, a few teams (the New England Patriots, Green Bay Packers, and Baltimore Ravens for example) discovered something of a formula to constantly field good teams based on coaching, player development, and scouting (none of which is directly affected by the salary cap). Meanwhile, other franchises like the Cleveland Browns might be spending the same amount on players but achieve consistently inferior results. \n",
      "\n",
      "Meanwhile, the filtered adapted Gini coefficient exhibits a slightly different pattern. It also fell (representing less dispersion) around the inception of the salary cap. But it quickly began rising again before reaching a level at which it has remained relatively constant over the last decade or so. That being said, it was much higher in absolute terms around the beginning of the Super Bowl era. Notably, the dropoff in the two parity statistics that has occured in recent years is not reflected at all in the Gini coefficient. This suggests that the dispersion of records has remained relatively similar but the composition of teams with good records and team with bad records has become more homogeneous over the last few years. "
     ]
    },
    {
     "cell_type": "heading",
     "level": 6,
     "metadata": {},
     "source": [
      "Bibliography"
     ]
    },
    {
     "cell_type": "markdown",
     "metadata": {},
     "source": [
      "Ravn, Morten; Uhlig, Harald (2002). \"On adjusting the Hodrick\u2013Prescott filter for the frequency of observations\". The Review of Economics and Statistics 84 (2): 37. Link: http://faculty.georgetown.edu/mh5/class/econ489/Ravn-Uhlig.pdf"
     ]
    }
   ],
   "metadata": {}
  }
 ]
}